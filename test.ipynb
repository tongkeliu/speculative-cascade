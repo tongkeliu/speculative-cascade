{
 "cells": [
  {
   "cell_type": "code",
   "execution_count": 2,
   "metadata": {},
   "outputs": [
    {
     "name": "stdout",
     "output_type": "stream",
     "text": [
      "empty\n"
     ]
    }
   ],
   "source": [
    "import torch\n",
    "from transformers import DynamicCache\n",
    "\n",
    "past_key_values = DynamicCache()\n",
    "if past_key_values.get_seq_length() == 0:\n",
    "    print(\"empty\")"
   ]
  }
 ],
 "metadata": {
  "kernelspec": {
   "display_name": "Python 3.13.7 ('pytorch')",
   "language": "python",
   "name": "python3"
  },
  "language_info": {
   "codemirror_mode": {
    "name": "ipython",
    "version": 3
   },
   "file_extension": ".py",
   "mimetype": "text/x-python",
   "name": "python",
   "nbconvert_exporter": "python",
   "pygments_lexer": "ipython3",
   "version": "3.13.7"
  },
  "orig_nbformat": 4,
  "vscode": {
   "interpreter": {
    "hash": "ef9928aa2ce269dc0e6806029764c2efe559c6d054c2bb66339448be28facc4a"
   }
  }
 },
 "nbformat": 4,
 "nbformat_minor": 2
}
